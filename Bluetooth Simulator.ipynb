{
 "cells": [
  {
   "cell_type": "code",
   "execution_count": null,
   "metadata": {},
   "outputs": [],
   "source": [
    "import random\n",
    "import threading\n",
    "import time"
   ]
  },
  {
   "cell_type": "code",
   "execution_count": null,
   "metadata": {},
   "outputs": [],
   "source": [
    "def retornaNodeFree(idNode, listNodes):\n",
    "    for node in listNodes:\n",
    "        if(idNode == node.id and node.activate == False):\n",
    "            return node\n",
    "    return None"
   ]
  },
  {
   "cell_type": "code",
   "execution_count": null,
   "metadata": {},
   "outputs": [],
   "source": [
    "class node:\n",
    "    \n",
    "    def __init__(self, id, Pint, sensorRange, isMaster):\n",
    "        self.id          = int(id)\n",
    "        self.Pint        = Pint\n",
    "        self.sensorRange = sensorRange\n",
    "        self.conexoes    = []\n",
    "        self.activate    = True\n",
    "        self.isMaster    = isMaster\n",
    "    \n",
    "    def publicar(self,master,pckg):##TODO Search for master OR another slave to send package\n",
    "        master.receiveMaster(self.id,pckg)\n",
    "    \n",
    "    def receiveSlave(self, pckg):  ##TODO Search for master OR another slave to send package\n",
    "        print(\"TODO\")\n",
    "    \n",
    "    def leituras(self,master):\n",
    "        while(self.activate):\n",
    "            summ = 0\n",
    "            finalRead = 0\n",
    "            for i in self.sensorRange:\n",
    "                summ = summ + random.choice(self.sensorRange)\n",
    "            finalRead = summ/len(self.sensorRange)\n",
    "            self.publicar(master,finalRead)\n",
    "\n",
    "    def sleep(self, sleepingTime):\n",
    "        if sleepingTime>=0:\n",
    "            print(\"Slave {0} for {1} seconds.\".format(self.id, sleepingTime))\n",
    "            self.activate = False \n",
    "            time.sleep(sleepingTime)\n",
    "            self.activate = True\n",
    "        else:\n",
    "            print(\"Slave {0} for indetermineted time.\".format(self.id))\n",
    "            self.activate = False\n",
    "        \n",
    "    def receiveMaster(self, idSlave, pckg):\n",
    "        if(pckg is not None):\n",
    "            print(\"############# Master receive from node {0} the value {1}\\n\".format(idSlave,pckg))"
   ]
  },
  {
   "cell_type": "code",
   "execution_count": null,
   "metadata": {},
   "outputs": [],
   "source": [
    "miyagi = node(0,200,range(-100000,0),True)\n",
    "\n",
    "x = node(1,50,range(0,100000),False)\n",
    "y = node(2,100,range(100000,200000),False)\n",
    "z = node(3,100,range(200000,300000),False)\n",
    "functX = threading.Thread(target=x.leituras, args=(miyagi,))\n",
    "functy = threading.Thread(target=y.leituras, args=(miyagi,))\n",
    "functz = threading.Thread(target=z.leituras, args=(miyagi,))\n",
    "\n",
    "functX.start()\n",
    "functy.start()\n",
    "functz.start()\n",
    "\n",
    "time.sleep(5)\n",
    "\n",
    "z.activate = False\n",
    "z.sleep(1)\n",
    "y.activate = False\n",
    "y.sleep(1)\n",
    "x.activate = False\n",
    "x.sleep(1)\n",
    "\n",
    "\n",
    "\n",
    "\n",
    "\n",
    "\n",
    "\n"
   ]
  },
  {
   "cell_type": "code",
   "execution_count": null,
   "metadata": {},
   "outputs": [],
   "source": [
    "x.leituras()"
   ]
  }
 ],
 "metadata": {
  "kernelspec": {
   "display_name": "Python 3",
   "language": "python",
   "name": "python3"
  },
  "language_info": {
   "codemirror_mode": {
    "name": "ipython",
    "version": 3
   },
   "file_extension": ".py",
   "mimetype": "text/x-python",
   "name": "python",
   "nbconvert_exporter": "python",
   "pygments_lexer": "ipython3",
   "version": "3.8.3"
  }
 },
 "nbformat": 4,
 "nbformat_minor": 4
}
